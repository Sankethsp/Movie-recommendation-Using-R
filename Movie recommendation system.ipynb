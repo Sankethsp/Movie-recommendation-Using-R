{
 "cells": [
  {
   "cell_type": "markdown",
   "id": "2aa7c7a1",
   "metadata": {},
   "source": [
    "                       Movie Recommendation System Project in R(Using IMDB Data sets)\n",
    "                     \n",
    "         "
   ]
  },
  {
   "cell_type": "code",
   "execution_count": 1,
   "id": "b9609118",
   "metadata": {
    "scrolled": true
   },
   "outputs": [
    {
     "name": "stderr",
     "output_type": "stream",
     "text": [
      "Loading required package: Matrix\n",
      "\n",
      "Loading required package: arules\n",
      "\n",
      "\n",
      "Attaching package: 'arules'\n",
      "\n",
      "\n",
      "The following objects are masked from 'package:base':\n",
      "\n",
      "    abbreviate, write\n",
      "\n",
      "\n",
      "Loading required package: proxy\n",
      "\n",
      "\n",
      "Attaching package: 'proxy'\n",
      "\n",
      "\n",
      "The following object is masked from 'package:Matrix':\n",
      "\n",
      "    as.matrix\n",
      "\n",
      "\n",
      "The following objects are masked from 'package:stats':\n",
      "\n",
      "    as.dist, dist\n",
      "\n",
      "\n",
      "The following object is masked from 'package:base':\n",
      "\n",
      "    as.matrix\n",
      "\n",
      "\n",
      "Loading required package: registry\n",
      "\n",
      "Registered S3 methods overwritten by 'registry':\n",
      "  method               from \n",
      "  print.registry_field proxy\n",
      "  print.registry_entry proxy\n",
      "\n"
     ]
    }
   ],
   "source": [
    "library(recommenderlab) "
   ]
  },
  {
   "cell_type": "code",
   "execution_count": 2,
   "id": "82bf0ffa",
   "metadata": {},
   "outputs": [
    {
     "name": "stderr",
     "output_type": "stream",
     "text": [
      "Warning message:\n",
      "\"package 'recommenderlab' is in use and will not be installed\"\n"
     ]
    }
   ],
   "source": [
    "install.packages(\"recommenderlab\")"
   ]
  },
  {
   "cell_type": "code",
   "execution_count": 3,
   "id": "bdbb8972",
   "metadata": {},
   "outputs": [
    {
     "ename": "ERROR",
     "evalue": "Error in labrary(recommenderlab): could not find function \"labrary\"\n",
     "output_type": "error",
     "traceback": [
      "Error in labrary(recommenderlab): could not find function \"labrary\"\nTraceback:\n"
     ]
    }
   ],
   "source": [
    "labrary(recommenderlab)"
   ]
  },
  {
   "cell_type": "code",
   "execution_count": 3,
   "id": "26bdc011",
   "metadata": {},
   "outputs": [],
   "source": [
    "library(recommenderlab)"
   ]
  },
  {
   "cell_type": "raw",
   "id": "9d8aced6",
   "metadata": {},
   "source": [
    "install.packages(\"ggplot2\")"
   ]
  },
  {
   "cell_type": "code",
   "execution_count": 4,
   "id": "4af1306c",
   "metadata": {},
   "outputs": [],
   "source": [
    "library(ggplot2)"
   ]
  },
  {
   "cell_type": "code",
   "execution_count": 5,
   "id": "5644afcf",
   "metadata": {},
   "outputs": [
    {
     "name": "stderr",
     "output_type": "stream",
     "text": [
      "Installing package into 'C:/Users/ACER/Documents/R/win-library/4.1'\n",
      "(as 'lib' is unspecified)\n",
      "\n"
     ]
    },
    {
     "name": "stdout",
     "output_type": "stream",
     "text": [
      "package 'data.table' successfully unpacked and MD5 sums checked\n",
      "\n",
      "The downloaded binary packages are in\n",
      "\tC:\\Users\\ACER\\AppData\\Local\\Temp\\RtmpSScmHm\\downloaded_packages\n"
     ]
    }
   ],
   "source": [
    "install.packages(\"data.table\")"
   ]
  },
  {
   "cell_type": "code",
   "execution_count": 6,
   "id": "2cd9a032",
   "metadata": {},
   "outputs": [],
   "source": [
    "library(data.table)"
   ]
  },
  {
   "cell_type": "code",
   "execution_count": 7,
   "id": "6c408f7f",
   "metadata": {},
   "outputs": [
    {
     "name": "stderr",
     "output_type": "stream",
     "text": [
      "\n",
      "Attaching package: 'reshape2'\n",
      "\n",
      "\n",
      "The following objects are masked from 'package:data.table':\n",
      "\n",
      "    dcast, melt\n",
      "\n",
      "\n"
     ]
    }
   ],
   "source": [
    "library(reshape2)"
   ]
  },
  {
   "cell_type": "code",
   "execution_count": 14,
   "id": "7bad029a",
   "metadata": {},
   "outputs": [
    {
     "name": "stdout",
     "output_type": "stream",
     "text": [
      "'data.frame':\t10329 obs. of  3 variables:\n",
      " $ movieId: int  1 2 3 4 5 6 7 8 9 10 ...\n",
      " $ title  : chr  \"Toy Story (1995)\" \"Jumanji (1995)\" \"Grumpier Old Men (1995)\" \"Waiting to Exhale (1995)\" ...\n",
      " $ genres : chr  \"Adventure|Animation|Children|Comedy|Fantasy\" \"Adventure|Children|Fantasy\" \"Comedy|Romance\" \"Comedy|Drama|Romance\" ...\n"
     ]
    }
   ],
   "source": [
    "setwd(\"C:/Users/ACER/Downloads/movie_data\")\n",
    "movie_data <-read.csv(\"movies.csv\",stringsAsFactors=FALSE)\n",
    "rating_data <-read.csv(\"ratings.csv\")\n",
    "str(movie_data)"
   ]
  },
  {
   "cell_type": "code",
   "execution_count": 15,
   "id": "1f933a9a",
   "metadata": {},
   "outputs": [
    {
     "data": {
      "text/plain": [
       "    movieId          title              genres         \n",
       " Min.   :     1   Length:10329       Length:10329      \n",
       " 1st Qu.:  3240   Class :character   Class :character  \n",
       " Median :  7088   Mode  :character   Mode  :character  \n",
       " Mean   : 31924                                        \n",
       " 3rd Qu.: 59900                                        \n",
       " Max.   :149532                                        "
      ]
     },
     "metadata": {},
     "output_type": "display_data"
    }
   ],
   "source": [
    "summary(movie_data)"
   ]
  },
  {
   "cell_type": "code",
   "execution_count": 16,
   "id": "7062055f",
   "metadata": {},
   "outputs": [
    {
     "data": {
      "text/html": [
       "<table class=\"dataframe\">\n",
       "<caption>A data.frame: 6 × 3</caption>\n",
       "<thead>\n",
       "\t<tr><th></th><th scope=col>movieId</th><th scope=col>title</th><th scope=col>genres</th></tr>\n",
       "\t<tr><th></th><th scope=col>&lt;int&gt;</th><th scope=col>&lt;chr&gt;</th><th scope=col>&lt;chr&gt;</th></tr>\n",
       "</thead>\n",
       "<tbody>\n",
       "\t<tr><th scope=row>1</th><td>1</td><td>Toy Story (1995)                  </td><td>Adventure|Animation|Children|Comedy|Fantasy</td></tr>\n",
       "\t<tr><th scope=row>2</th><td>2</td><td>Jumanji (1995)                    </td><td>Adventure|Children|Fantasy                 </td></tr>\n",
       "\t<tr><th scope=row>3</th><td>3</td><td>Grumpier Old Men (1995)           </td><td>Comedy|Romance                             </td></tr>\n",
       "\t<tr><th scope=row>4</th><td>4</td><td>Waiting to Exhale (1995)          </td><td>Comedy|Drama|Romance                       </td></tr>\n",
       "\t<tr><th scope=row>5</th><td>5</td><td>Father of the Bride Part II (1995)</td><td>Comedy                                     </td></tr>\n",
       "\t<tr><th scope=row>6</th><td>6</td><td>Heat (1995)                       </td><td>Action|Crime|Thriller                      </td></tr>\n",
       "</tbody>\n",
       "</table>\n"
      ],
      "text/latex": [
       "A data.frame: 6 × 3\n",
       "\\begin{tabular}{r|lll}\n",
       "  & movieId & title & genres\\\\\n",
       "  & <int> & <chr> & <chr>\\\\\n",
       "\\hline\n",
       "\t1 & 1 & Toy Story (1995)                   & Adventure\\textbar{}Animation\\textbar{}Children\\textbar{}Comedy\\textbar{}Fantasy\\\\\n",
       "\t2 & 2 & Jumanji (1995)                     & Adventure\\textbar{}Children\\textbar{}Fantasy                 \\\\\n",
       "\t3 & 3 & Grumpier Old Men (1995)            & Comedy\\textbar{}Romance                             \\\\\n",
       "\t4 & 4 & Waiting to Exhale (1995)           & Comedy\\textbar{}Drama\\textbar{}Romance                       \\\\\n",
       "\t5 & 5 & Father of the Bride Part II (1995) & Comedy                                     \\\\\n",
       "\t6 & 6 & Heat (1995)                        & Action\\textbar{}Crime\\textbar{}Thriller                      \\\\\n",
       "\\end{tabular}\n"
      ],
      "text/markdown": [
       "\n",
       "A data.frame: 6 × 3\n",
       "\n",
       "| <!--/--> | movieId &lt;int&gt; | title &lt;chr&gt; | genres &lt;chr&gt; |\n",
       "|---|---|---|---|\n",
       "| 1 | 1 | Toy Story (1995)                   | Adventure|Animation|Children|Comedy|Fantasy |\n",
       "| 2 | 2 | Jumanji (1995)                     | Adventure|Children|Fantasy                  |\n",
       "| 3 | 3 | Grumpier Old Men (1995)            | Comedy|Romance                              |\n",
       "| 4 | 4 | Waiting to Exhale (1995)           | Comedy|Drama|Romance                        |\n",
       "| 5 | 5 | Father of the Bride Part II (1995) | Comedy                                      |\n",
       "| 6 | 6 | Heat (1995)                        | Action|Crime|Thriller                       |\n",
       "\n"
      ],
      "text/plain": [
       "  movieId title                             \n",
       "1 1       Toy Story (1995)                  \n",
       "2 2       Jumanji (1995)                    \n",
       "3 3       Grumpier Old Men (1995)           \n",
       "4 4       Waiting to Exhale (1995)          \n",
       "5 5       Father of the Bride Part II (1995)\n",
       "6 6       Heat (1995)                       \n",
       "  genres                                     \n",
       "1 Adventure|Animation|Children|Comedy|Fantasy\n",
       "2 Adventure|Children|Fantasy                 \n",
       "3 Comedy|Romance                             \n",
       "4 Comedy|Drama|Romance                       \n",
       "5 Comedy                                     \n",
       "6 Action|Crime|Thriller                      "
      ]
     },
     "metadata": {},
     "output_type": "display_data"
    }
   ],
   "source": [
    "head(movie_data)"
   ]
  },
  {
   "cell_type": "code",
   "execution_count": 17,
   "id": "23980b9e",
   "metadata": {},
   "outputs": [
    {
     "data": {
      "text/plain": [
       "     userId         movieId           rating        timestamp        \n",
       " Min.   :  1.0   Min.   :     1   Min.   :0.500   Min.   :8.286e+08  \n",
       " 1st Qu.:192.0   1st Qu.:  1073   1st Qu.:3.000   1st Qu.:9.711e+08  \n",
       " Median :383.0   Median :  2497   Median :3.500   Median :1.115e+09  \n",
       " Mean   :364.9   Mean   : 13381   Mean   :3.517   Mean   :1.130e+09  \n",
       " 3rd Qu.:557.0   3rd Qu.:  5991   3rd Qu.:4.000   3rd Qu.:1.275e+09  \n",
       " Max.   :668.0   Max.   :149532   Max.   :5.000   Max.   :1.452e+09  "
      ]
     },
     "metadata": {},
     "output_type": "display_data"
    }
   ],
   "source": [
    "summary(rating_data)"
   ]
  },
  {
   "cell_type": "code",
   "execution_count": 18,
   "id": "698eed64",
   "metadata": {},
   "outputs": [
    {
     "data": {
      "text/html": [
       "<table class=\"dataframe\">\n",
       "<caption>A data.frame: 6 × 4</caption>\n",
       "<thead>\n",
       "\t<tr><th></th><th scope=col>userId</th><th scope=col>movieId</th><th scope=col>rating</th><th scope=col>timestamp</th></tr>\n",
       "\t<tr><th></th><th scope=col>&lt;int&gt;</th><th scope=col>&lt;int&gt;</th><th scope=col>&lt;dbl&gt;</th><th scope=col>&lt;int&gt;</th></tr>\n",
       "</thead>\n",
       "<tbody>\n",
       "\t<tr><th scope=row>1</th><td>1</td><td> 16</td><td>4.0</td><td>1217897793</td></tr>\n",
       "\t<tr><th scope=row>2</th><td>1</td><td> 24</td><td>1.5</td><td>1217895807</td></tr>\n",
       "\t<tr><th scope=row>3</th><td>1</td><td> 32</td><td>4.0</td><td>1217896246</td></tr>\n",
       "\t<tr><th scope=row>4</th><td>1</td><td> 47</td><td>4.0</td><td>1217896556</td></tr>\n",
       "\t<tr><th scope=row>5</th><td>1</td><td> 50</td><td>4.0</td><td>1217896523</td></tr>\n",
       "\t<tr><th scope=row>6</th><td>1</td><td>110</td><td>4.0</td><td>1217896150</td></tr>\n",
       "</tbody>\n",
       "</table>\n"
      ],
      "text/latex": [
       "A data.frame: 6 × 4\n",
       "\\begin{tabular}{r|llll}\n",
       "  & userId & movieId & rating & timestamp\\\\\n",
       "  & <int> & <int> & <dbl> & <int>\\\\\n",
       "\\hline\n",
       "\t1 & 1 &  16 & 4.0 & 1217897793\\\\\n",
       "\t2 & 1 &  24 & 1.5 & 1217895807\\\\\n",
       "\t3 & 1 &  32 & 4.0 & 1217896246\\\\\n",
       "\t4 & 1 &  47 & 4.0 & 1217896556\\\\\n",
       "\t5 & 1 &  50 & 4.0 & 1217896523\\\\\n",
       "\t6 & 1 & 110 & 4.0 & 1217896150\\\\\n",
       "\\end{tabular}\n"
      ],
      "text/markdown": [
       "\n",
       "A data.frame: 6 × 4\n",
       "\n",
       "| <!--/--> | userId &lt;int&gt; | movieId &lt;int&gt; | rating &lt;dbl&gt; | timestamp &lt;int&gt; |\n",
       "|---|---|---|---|---|\n",
       "| 1 | 1 |  16 | 4.0 | 1217897793 |\n",
       "| 2 | 1 |  24 | 1.5 | 1217895807 |\n",
       "| 3 | 1 |  32 | 4.0 | 1217896246 |\n",
       "| 4 | 1 |  47 | 4.0 | 1217896556 |\n",
       "| 5 | 1 |  50 | 4.0 | 1217896523 |\n",
       "| 6 | 1 | 110 | 4.0 | 1217896150 |\n",
       "\n"
      ],
      "text/plain": [
       "  userId movieId rating timestamp \n",
       "1 1       16     4.0    1217897793\n",
       "2 1       24     1.5    1217895807\n",
       "3 1       32     4.0    1217896246\n",
       "4 1       47     4.0    1217896556\n",
       "5 1       50     4.0    1217896523\n",
       "6 1      110     4.0    1217896150"
      ]
     },
     "metadata": {},
     "output_type": "display_data"
    }
   ],
   "source": [
    "head(rating_data)"
   ]
  },
  {
   "cell_type": "code",
   "execution_count": 22,
   "id": "2aabcfea",
   "metadata": {},
   "outputs": [
    {
     "name": "stdout",
     "output_type": "stream",
     "text": [
      "'data.frame':\t10329 obs. of  18 variables:\n",
      " $ V1 : int  0 0 0 0 0 1 0 0 1 1 ...\n",
      " $ V2 : int  1 1 0 0 0 0 0 1 0 1 ...\n",
      " $ V3 : int  1 0 0 0 0 0 0 0 0 0 ...\n",
      " $ V4 : int  1 1 0 0 0 0 0 1 0 0 ...\n",
      " $ V5 : int  1 0 1 1 1 0 1 0 0 0 ...\n",
      " $ V6 : int  0 0 0 0 0 1 0 0 0 0 ...\n",
      " $ V7 : int  0 0 0 0 0 0 0 0 0 0 ...\n",
      " $ V8 : int  0 0 0 1 0 0 0 0 0 0 ...\n",
      " $ V9 : int  1 1 0 0 0 0 0 0 0 0 ...\n",
      " $ V10: int  0 0 0 0 0 0 0 0 0 0 ...\n",
      " $ V11: int  0 0 0 0 0 0 0 0 0 0 ...\n",
      " $ V12: int  0 0 0 0 0 0 0 0 0 0 ...\n",
      " $ V13: int  0 0 0 0 0 0 0 0 0 0 ...\n",
      " $ V14: int  0 0 1 1 0 0 1 0 0 0 ...\n",
      " $ V15: int  0 0 0 0 0 0 0 0 0 0 ...\n",
      " $ V16: int  0 0 0 0 0 1 0 0 0 1 ...\n",
      " $ V17: int  0 0 0 0 0 0 0 0 0 0 ...\n",
      " $ V18: int  0 0 0 0 0 0 0 0 0 0 ...\n"
     ]
    }
   ],
   "source": [
    "movie_genre <- as.data.frame(movie_data$genres,stringsAsFactors=FALSE)\n",
    "library(data.table)\n",
    "movie_genre2 <- as.data.frame(tstrsplit(movie_genre[,1],'[ | ]',type.convert=TRUE),stringAsFactors= FALSE)\n",
    "colnames(movie_genre2) <-c(1:10)\n",
    "list_genre <- c(\"Action\",\"Adventure\",\"Animation\",\"Children\",\"Comedy\",\"Crime\",\"Documentary\",\"Drama\",\"Fantasy\",\"Film-Noir\",\"Horror\",\"Musical\",\"Mystery\",\"Romance\",\"Sci-Fi\",\"Thriller\",\"War\",\"Western\")\n",
    "genre_mat1 <- matrix(0,10330,18)\n",
    "genre_mat1[1,] <- list_genre\n",
    "\n",
    "for(index in 1:nrow(movie_genre2))\n",
    "    {\n",
    "        for(col in 1:ncol(movie_genre2))\n",
    "        {\n",
    "            gen_col = which(genre_mat1[1,] == movie_genre2[index,col])\n",
    "            genre_mat1[index+1,gen_col] <-1\n",
    "         }\n",
    "     }\n",
    "     genre_mat2 <- as.data.frame(genre_mat1[-1,],stringsAsFactors=FALSE)\n",
    "     for(col in 1:ncol(genre_mat2))\n",
    "     {\n",
    "         genre_mat2[,col]<-as.integer(genre_mat2[,col])\n",
    "     }\n",
    "     str(genre_mat2)\n",
    "      "
   ]
  },
  {
   "cell_type": "code",
   "execution_count": 23,
   "id": "4bb12d79",
   "metadata": {
    "scrolled": true
   },
   "outputs": [
    {
     "data": {
      "text/html": [
       "<table class=\"dataframe\">\n",
       "<caption>A data.frame: 6 × 20</caption>\n",
       "<thead>\n",
       "\t<tr><th></th><th scope=col>movieId</th><th scope=col>title</th><th scope=col>V1</th><th scope=col>V2</th><th scope=col>V3</th><th scope=col>V4</th><th scope=col>V5</th><th scope=col>V6</th><th scope=col>V7</th><th scope=col>V8</th><th scope=col>V9</th><th scope=col>V10</th><th scope=col>V11</th><th scope=col>V12</th><th scope=col>V13</th><th scope=col>V14</th><th scope=col>V15</th><th scope=col>V16</th><th scope=col>V17</th><th scope=col>V18</th></tr>\n",
       "\t<tr><th></th><th scope=col>&lt;int&gt;</th><th scope=col>&lt;chr&gt;</th><th scope=col>&lt;int&gt;</th><th scope=col>&lt;int&gt;</th><th scope=col>&lt;int&gt;</th><th scope=col>&lt;int&gt;</th><th scope=col>&lt;int&gt;</th><th scope=col>&lt;int&gt;</th><th scope=col>&lt;int&gt;</th><th scope=col>&lt;int&gt;</th><th scope=col>&lt;int&gt;</th><th scope=col>&lt;int&gt;</th><th scope=col>&lt;int&gt;</th><th scope=col>&lt;int&gt;</th><th scope=col>&lt;int&gt;</th><th scope=col>&lt;int&gt;</th><th scope=col>&lt;int&gt;</th><th scope=col>&lt;int&gt;</th><th scope=col>&lt;int&gt;</th><th scope=col>&lt;int&gt;</th></tr>\n",
       "</thead>\n",
       "<tbody>\n",
       "\t<tr><th scope=row>1</th><td>1</td><td>Toy Story (1995)                  </td><td>0</td><td>1</td><td>1</td><td>1</td><td>1</td><td>0</td><td>0</td><td>0</td><td>1</td><td>0</td><td>0</td><td>0</td><td>0</td><td>0</td><td>0</td><td>0</td><td>0</td><td>0</td></tr>\n",
       "\t<tr><th scope=row>2</th><td>2</td><td>Jumanji (1995)                    </td><td>0</td><td>1</td><td>0</td><td>1</td><td>0</td><td>0</td><td>0</td><td>0</td><td>1</td><td>0</td><td>0</td><td>0</td><td>0</td><td>0</td><td>0</td><td>0</td><td>0</td><td>0</td></tr>\n",
       "\t<tr><th scope=row>3</th><td>3</td><td>Grumpier Old Men (1995)           </td><td>0</td><td>0</td><td>0</td><td>0</td><td>1</td><td>0</td><td>0</td><td>0</td><td>0</td><td>0</td><td>0</td><td>0</td><td>0</td><td>1</td><td>0</td><td>0</td><td>0</td><td>0</td></tr>\n",
       "\t<tr><th scope=row>4</th><td>4</td><td>Waiting to Exhale (1995)          </td><td>0</td><td>0</td><td>0</td><td>0</td><td>1</td><td>0</td><td>0</td><td>1</td><td>0</td><td>0</td><td>0</td><td>0</td><td>0</td><td>1</td><td>0</td><td>0</td><td>0</td><td>0</td></tr>\n",
       "\t<tr><th scope=row>5</th><td>5</td><td>Father of the Bride Part II (1995)</td><td>0</td><td>0</td><td>0</td><td>0</td><td>1</td><td>0</td><td>0</td><td>0</td><td>0</td><td>0</td><td>0</td><td>0</td><td>0</td><td>0</td><td>0</td><td>0</td><td>0</td><td>0</td></tr>\n",
       "\t<tr><th scope=row>6</th><td>6</td><td>Heat (1995)                       </td><td>1</td><td>0</td><td>0</td><td>0</td><td>0</td><td>1</td><td>0</td><td>0</td><td>0</td><td>0</td><td>0</td><td>0</td><td>0</td><td>0</td><td>0</td><td>1</td><td>0</td><td>0</td></tr>\n",
       "</tbody>\n",
       "</table>\n"
      ],
      "text/latex": [
       "A data.frame: 6 × 20\n",
       "\\begin{tabular}{r|llllllllllllllllllll}\n",
       "  & movieId & title & V1 & V2 & V3 & V4 & V5 & V6 & V7 & V8 & V9 & V10 & V11 & V12 & V13 & V14 & V15 & V16 & V17 & V18\\\\\n",
       "  & <int> & <chr> & <int> & <int> & <int> & <int> & <int> & <int> & <int> & <int> & <int> & <int> & <int> & <int> & <int> & <int> & <int> & <int> & <int> & <int>\\\\\n",
       "\\hline\n",
       "\t1 & 1 & Toy Story (1995)                   & 0 & 1 & 1 & 1 & 1 & 0 & 0 & 0 & 1 & 0 & 0 & 0 & 0 & 0 & 0 & 0 & 0 & 0\\\\\n",
       "\t2 & 2 & Jumanji (1995)                     & 0 & 1 & 0 & 1 & 0 & 0 & 0 & 0 & 1 & 0 & 0 & 0 & 0 & 0 & 0 & 0 & 0 & 0\\\\\n",
       "\t3 & 3 & Grumpier Old Men (1995)            & 0 & 0 & 0 & 0 & 1 & 0 & 0 & 0 & 0 & 0 & 0 & 0 & 0 & 1 & 0 & 0 & 0 & 0\\\\\n",
       "\t4 & 4 & Waiting to Exhale (1995)           & 0 & 0 & 0 & 0 & 1 & 0 & 0 & 1 & 0 & 0 & 0 & 0 & 0 & 1 & 0 & 0 & 0 & 0\\\\\n",
       "\t5 & 5 & Father of the Bride Part II (1995) & 0 & 0 & 0 & 0 & 1 & 0 & 0 & 0 & 0 & 0 & 0 & 0 & 0 & 0 & 0 & 0 & 0 & 0\\\\\n",
       "\t6 & 6 & Heat (1995)                        & 1 & 0 & 0 & 0 & 0 & 1 & 0 & 0 & 0 & 0 & 0 & 0 & 0 & 0 & 0 & 1 & 0 & 0\\\\\n",
       "\\end{tabular}\n"
      ],
      "text/markdown": [
       "\n",
       "A data.frame: 6 × 20\n",
       "\n",
       "| <!--/--> | movieId &lt;int&gt; | title &lt;chr&gt; | V1 &lt;int&gt; | V2 &lt;int&gt; | V3 &lt;int&gt; | V4 &lt;int&gt; | V5 &lt;int&gt; | V6 &lt;int&gt; | V7 &lt;int&gt; | V8 &lt;int&gt; | V9 &lt;int&gt; | V10 &lt;int&gt; | V11 &lt;int&gt; | V12 &lt;int&gt; | V13 &lt;int&gt; | V14 &lt;int&gt; | V15 &lt;int&gt; | V16 &lt;int&gt; | V17 &lt;int&gt; | V18 &lt;int&gt; |\n",
       "|---|---|---|---|---|---|---|---|---|---|---|---|---|---|---|---|---|---|---|---|---|\n",
       "| 1 | 1 | Toy Story (1995)                   | 0 | 1 | 1 | 1 | 1 | 0 | 0 | 0 | 1 | 0 | 0 | 0 | 0 | 0 | 0 | 0 | 0 | 0 |\n",
       "| 2 | 2 | Jumanji (1995)                     | 0 | 1 | 0 | 1 | 0 | 0 | 0 | 0 | 1 | 0 | 0 | 0 | 0 | 0 | 0 | 0 | 0 | 0 |\n",
       "| 3 | 3 | Grumpier Old Men (1995)            | 0 | 0 | 0 | 0 | 1 | 0 | 0 | 0 | 0 | 0 | 0 | 0 | 0 | 1 | 0 | 0 | 0 | 0 |\n",
       "| 4 | 4 | Waiting to Exhale (1995)           | 0 | 0 | 0 | 0 | 1 | 0 | 0 | 1 | 0 | 0 | 0 | 0 | 0 | 1 | 0 | 0 | 0 | 0 |\n",
       "| 5 | 5 | Father of the Bride Part II (1995) | 0 | 0 | 0 | 0 | 1 | 0 | 0 | 0 | 0 | 0 | 0 | 0 | 0 | 0 | 0 | 0 | 0 | 0 |\n",
       "| 6 | 6 | Heat (1995)                        | 1 | 0 | 0 | 0 | 0 | 1 | 0 | 0 | 0 | 0 | 0 | 0 | 0 | 0 | 0 | 1 | 0 | 0 |\n",
       "\n"
      ],
      "text/plain": [
       "  movieId title                              V1 V2 V3 V4 V5 V6 V7 V8 V9 V10 V11\n",
       "1 1       Toy Story (1995)                   0  1  1  1  1  0  0  0  1  0   0  \n",
       "2 2       Jumanji (1995)                     0  1  0  1  0  0  0  0  1  0   0  \n",
       "3 3       Grumpier Old Men (1995)            0  0  0  0  1  0  0  0  0  0   0  \n",
       "4 4       Waiting to Exhale (1995)           0  0  0  0  1  0  0  1  0  0   0  \n",
       "5 5       Father of the Bride Part II (1995) 0  0  0  0  1  0  0  0  0  0   0  \n",
       "6 6       Heat (1995)                        1  0  0  0  0  1  0  0  0  0   0  \n",
       "  V12 V13 V14 V15 V16 V17 V18\n",
       "1 0   0   0   0   0   0   0  \n",
       "2 0   0   0   0   0   0   0  \n",
       "3 0   0   1   0   0   0   0  \n",
       "4 0   0   1   0   0   0   0  \n",
       "5 0   0   0   0   0   0   0  \n",
       "6 0   0   0   0   1   0   0  "
      ]
     },
     "metadata": {},
     "output_type": "display_data"
    }
   ],
   "source": [
    "SearchMatrix <- cbind(movie_data[,1:2],genre_mat2[])\n",
    "head(SearchMatrix)"
   ]
  },
  {
   "cell_type": "code",
   "execution_count": 27,
   "id": "f18fe085",
   "metadata": {
    "scrolled": true
   },
   "outputs": [
    {
     "data": {
      "text/plain": [
       "668 x 10325 rating matrix of class 'realRatingMatrix' with 105339 ratings."
      ]
     },
     "metadata": {},
     "output_type": "display_data"
    }
   ],
   "source": [
    "ratingMatrix <- dcast(rating_data,userId~movieId,value.var =\"rating\",na.rm=FALSE)\n",
    "ratingMatrix<- as.matrix(ratingMatrix[,-1])\n",
    "ratingMatrix<- as(ratingMatrix,\"realRatingMatrix\")\n",
    "ratingMatrix"
   ]
  },
  {
   "cell_type": "code",
   "execution_count": 29,
   "id": "f011ad35",
   "metadata": {},
   "outputs": [
    {
     "data": {
      "text/html": [
       "<style>\n",
       ".list-inline {list-style: none; margin:0; padding: 0}\n",
       ".list-inline>li {display: inline-block}\n",
       ".list-inline>li:not(:last-child)::after {content: \"\\00b7\"; padding: 0 .5ex}\n",
       "</style>\n",
       "<ol class=list-inline><li>'HYBRID_realRatingMatrix'</li><li>'ALS_realRatingMatrix'</li><li>'ALS_implicit_realRatingMatrix'</li><li>'IBCF_realRatingMatrix'</li><li>'LIBMF_realRatingMatrix'</li><li>'POPULAR_realRatingMatrix'</li><li>'RANDOM_realRatingMatrix'</li><li>'RERECOMMEND_realRatingMatrix'</li><li>'SVD_realRatingMatrix'</li><li>'SVDF_realRatingMatrix'</li><li>'UBCF_realRatingMatrix'</li></ol>\n"
      ],
      "text/latex": [
       "\\begin{enumerate*}\n",
       "\\item 'HYBRID\\_realRatingMatrix'\n",
       "\\item 'ALS\\_realRatingMatrix'\n",
       "\\item 'ALS\\_implicit\\_realRatingMatrix'\n",
       "\\item 'IBCF\\_realRatingMatrix'\n",
       "\\item 'LIBMF\\_realRatingMatrix'\n",
       "\\item 'POPULAR\\_realRatingMatrix'\n",
       "\\item 'RANDOM\\_realRatingMatrix'\n",
       "\\item 'RERECOMMEND\\_realRatingMatrix'\n",
       "\\item 'SVD\\_realRatingMatrix'\n",
       "\\item 'SVDF\\_realRatingMatrix'\n",
       "\\item 'UBCF\\_realRatingMatrix'\n",
       "\\end{enumerate*}\n"
      ],
      "text/markdown": [
       "1. 'HYBRID_realRatingMatrix'\n",
       "2. 'ALS_realRatingMatrix'\n",
       "3. 'ALS_implicit_realRatingMatrix'\n",
       "4. 'IBCF_realRatingMatrix'\n",
       "5. 'LIBMF_realRatingMatrix'\n",
       "6. 'POPULAR_realRatingMatrix'\n",
       "7. 'RANDOM_realRatingMatrix'\n",
       "8. 'RERECOMMEND_realRatingMatrix'\n",
       "9. 'SVD_realRatingMatrix'\n",
       "10. 'SVDF_realRatingMatrix'\n",
       "11. 'UBCF_realRatingMatrix'\n",
       "\n",
       "\n"
      ],
      "text/plain": [
       " [1] \"HYBRID_realRatingMatrix\"       \"ALS_realRatingMatrix\"         \n",
       " [3] \"ALS_implicit_realRatingMatrix\" \"IBCF_realRatingMatrix\"        \n",
       " [5] \"LIBMF_realRatingMatrix\"        \"POPULAR_realRatingMatrix\"     \n",
       " [7] \"RANDOM_realRatingMatrix\"       \"RERECOMMEND_realRatingMatrix\" \n",
       " [9] \"SVD_realRatingMatrix\"          \"SVDF_realRatingMatrix\"        \n",
       "[11] \"UBCF_realRatingMatrix\"        "
      ]
     },
     "metadata": {},
     "output_type": "display_data"
    }
   ],
   "source": [
    "recommendation_model <- recommenderRegistry$get_entries(dataType =\"realRatingMatrix\")\n",
    "names(recommendation_model)"
   ]
  },
  {
   "cell_type": "code",
   "execution_count": 30,
   "id": "38062595",
   "metadata": {},
   "outputs": [
    {
     "data": {
      "text/html": [
       "<dl>\n",
       "\t<dt>$HYBRID_realRatingMatrix</dt>\n",
       "\t\t<dd>'Hybrid recommender that aggegates several recommendation strategies using weighted averages.'</dd>\n",
       "\t<dt>$ALS_realRatingMatrix</dt>\n",
       "\t\t<dd>'Recommender for explicit ratings based on latent factors, calculated by alternating least squares algorithm.'</dd>\n",
       "\t<dt>$ALS_implicit_realRatingMatrix</dt>\n",
       "\t\t<dd>'Recommender for implicit data based on latent factors, calculated by alternating least squares algorithm.'</dd>\n",
       "\t<dt>$IBCF_realRatingMatrix</dt>\n",
       "\t\t<dd>'Recommender based on item-based collaborative filtering.'</dd>\n",
       "\t<dt>$LIBMF_realRatingMatrix</dt>\n",
       "\t\t<dd>'Matrix factorization with LIBMF via package recosystem (https://cran.r-project.org/web/packages/recosystem/vignettes/introduction.html).'</dd>\n",
       "\t<dt>$POPULAR_realRatingMatrix</dt>\n",
       "\t\t<dd>'Recommender based on item popularity.'</dd>\n",
       "\t<dt>$RANDOM_realRatingMatrix</dt>\n",
       "\t\t<dd>'Produce random recommendations (real ratings).'</dd>\n",
       "\t<dt>$RERECOMMEND_realRatingMatrix</dt>\n",
       "\t\t<dd>'Re-recommends highly rated items (real ratings).'</dd>\n",
       "\t<dt>$SVD_realRatingMatrix</dt>\n",
       "\t\t<dd>'Recommender based on SVD approximation with column-mean imputation.'</dd>\n",
       "\t<dt>$SVDF_realRatingMatrix</dt>\n",
       "\t\t<dd>'Recommender based on Funk SVD with gradient descend (https://sifter.org/~simon/journal/20061211.html).'</dd>\n",
       "\t<dt>$UBCF_realRatingMatrix</dt>\n",
       "\t\t<dd>'Recommender based on user-based collaborative filtering.'</dd>\n",
       "</dl>\n"
      ],
      "text/latex": [
       "\\begin{description}\n",
       "\\item[\\$HYBRID\\_realRatingMatrix] 'Hybrid recommender that aggegates several recommendation strategies using weighted averages.'\n",
       "\\item[\\$ALS\\_realRatingMatrix] 'Recommender for explicit ratings based on latent factors, calculated by alternating least squares algorithm.'\n",
       "\\item[\\$ALS\\_implicit\\_realRatingMatrix] 'Recommender for implicit data based on latent factors, calculated by alternating least squares algorithm.'\n",
       "\\item[\\$IBCF\\_realRatingMatrix] 'Recommender based on item-based collaborative filtering.'\n",
       "\\item[\\$LIBMF\\_realRatingMatrix] 'Matrix factorization with LIBMF via package recosystem (https://cran.r-project.org/web/packages/recosystem/vignettes/introduction.html).'\n",
       "\\item[\\$POPULAR\\_realRatingMatrix] 'Recommender based on item popularity.'\n",
       "\\item[\\$RANDOM\\_realRatingMatrix] 'Produce random recommendations (real ratings).'\n",
       "\\item[\\$RERECOMMEND\\_realRatingMatrix] 'Re-recommends highly rated items (real ratings).'\n",
       "\\item[\\$SVD\\_realRatingMatrix] 'Recommender based on SVD approximation with column-mean imputation.'\n",
       "\\item[\\$SVDF\\_realRatingMatrix] 'Recommender based on Funk SVD with gradient descend (https://sifter.org/\\textasciitilde{}simon/journal/20061211.html).'\n",
       "\\item[\\$UBCF\\_realRatingMatrix] 'Recommender based on user-based collaborative filtering.'\n",
       "\\end{description}\n"
      ],
      "text/markdown": [
       "$HYBRID_realRatingMatrix\n",
       ":   'Hybrid recommender that aggegates several recommendation strategies using weighted averages.'\n",
       "$ALS_realRatingMatrix\n",
       ":   'Recommender for explicit ratings based on latent factors, calculated by alternating least squares algorithm.'\n",
       "$ALS_implicit_realRatingMatrix\n",
       ":   'Recommender for implicit data based on latent factors, calculated by alternating least squares algorithm.'\n",
       "$IBCF_realRatingMatrix\n",
       ":   'Recommender based on item-based collaborative filtering.'\n",
       "$LIBMF_realRatingMatrix\n",
       ":   'Matrix factorization with LIBMF via package recosystem (https://cran.r-project.org/web/packages/recosystem/vignettes/introduction.html).'\n",
       "$POPULAR_realRatingMatrix\n",
       ":   'Recommender based on item popularity.'\n",
       "$RANDOM_realRatingMatrix\n",
       ":   'Produce random recommendations (real ratings).'\n",
       "$RERECOMMEND_realRatingMatrix\n",
       ":   'Re-recommends highly rated items (real ratings).'\n",
       "$SVD_realRatingMatrix\n",
       ":   'Recommender based on SVD approximation with column-mean imputation.'\n",
       "$SVDF_realRatingMatrix\n",
       ":   'Recommender based on Funk SVD with gradient descend (https://sifter.org/~simon/journal/20061211.html).'\n",
       "$UBCF_realRatingMatrix\n",
       ":   'Recommender based on user-based collaborative filtering.'\n",
       "\n",
       "\n"
      ],
      "text/plain": [
       "$HYBRID_realRatingMatrix\n",
       "[1] \"Hybrid recommender that aggegates several recommendation strategies using weighted averages.\"\n",
       "\n",
       "$ALS_realRatingMatrix\n",
       "[1] \"Recommender for explicit ratings based on latent factors, calculated by alternating least squares algorithm.\"\n",
       "\n",
       "$ALS_implicit_realRatingMatrix\n",
       "[1] \"Recommender for implicit data based on latent factors, calculated by alternating least squares algorithm.\"\n",
       "\n",
       "$IBCF_realRatingMatrix\n",
       "[1] \"Recommender based on item-based collaborative filtering.\"\n",
       "\n",
       "$LIBMF_realRatingMatrix\n",
       "[1] \"Matrix factorization with LIBMF via package recosystem (https://cran.r-project.org/web/packages/recosystem/vignettes/introduction.html).\"\n",
       "\n",
       "$POPULAR_realRatingMatrix\n",
       "[1] \"Recommender based on item popularity.\"\n",
       "\n",
       "$RANDOM_realRatingMatrix\n",
       "[1] \"Produce random recommendations (real ratings).\"\n",
       "\n",
       "$RERECOMMEND_realRatingMatrix\n",
       "[1] \"Re-recommends highly rated items (real ratings).\"\n",
       "\n",
       "$SVD_realRatingMatrix\n",
       "[1] \"Recommender based on SVD approximation with column-mean imputation.\"\n",
       "\n",
       "$SVDF_realRatingMatrix\n",
       "[1] \"Recommender based on Funk SVD with gradient descend (https://sifter.org/~simon/journal/20061211.html).\"\n",
       "\n",
       "$UBCF_realRatingMatrix\n",
       "[1] \"Recommender based on user-based collaborative filtering.\"\n"
      ]
     },
     "metadata": {},
     "output_type": "display_data"
    }
   ],
   "source": [
    "lapply(recommendation_model, \"[[\",\"description\")"
   ]
  },
  {
   "cell_type": "raw",
   "id": "6feb7dc0",
   "metadata": {},
   "source": [
    "dfsd"
   ]
  },
  {
   "cell_type": "code",
   "execution_count": 31,
   "id": "498fb7fd",
   "metadata": {},
   "outputs": [
    {
     "data": {
      "text/html": [
       "<dl>\n",
       "\t<dt>$k</dt>\n",
       "\t\t<dd>30</dd>\n",
       "\t<dt>$method</dt>\n",
       "\t\t<dd>'Cosine'</dd>\n",
       "\t<dt>$normalize</dt>\n",
       "\t\t<dd>'center'</dd>\n",
       "\t<dt>$normalize_sim_matrix</dt>\n",
       "\t\t<dd>FALSE</dd>\n",
       "\t<dt>$alpha</dt>\n",
       "\t\t<dd>0.5</dd>\n",
       "\t<dt>$na_as_zero</dt>\n",
       "\t\t<dd>FALSE</dd>\n",
       "</dl>\n"
      ],
      "text/latex": [
       "\\begin{description}\n",
       "\\item[\\$k] 30\n",
       "\\item[\\$method] 'Cosine'\n",
       "\\item[\\$normalize] 'center'\n",
       "\\item[\\$normalize\\_sim\\_matrix] FALSE\n",
       "\\item[\\$alpha] 0.5\n",
       "\\item[\\$na\\_as\\_zero] FALSE\n",
       "\\end{description}\n"
      ],
      "text/markdown": [
       "$k\n",
       ":   30\n",
       "$method\n",
       ":   'Cosine'\n",
       "$normalize\n",
       ":   'center'\n",
       "$normalize_sim_matrix\n",
       ":   FALSE\n",
       "$alpha\n",
       ":   0.5\n",
       "$na_as_zero\n",
       ":   FALSE\n",
       "\n",
       "\n"
      ],
      "text/plain": [
       "$k\n",
       "[1] 30\n",
       "\n",
       "$method\n",
       "[1] \"Cosine\"\n",
       "\n",
       "$normalize\n",
       "[1] \"center\"\n",
       "\n",
       "$normalize_sim_matrix\n",
       "[1] FALSE\n",
       "\n",
       "$alpha\n",
       "[1] 0.5\n",
       "\n",
       "$na_as_zero\n",
       "[1] FALSE\n"
      ]
     },
     "metadata": {},
     "output_type": "display_data"
    }
   ],
   "source": [
    "recommendation_model$IBCF_realRatingMatrix$parameters"
   ]
  },
  {
   "cell_type": "code",
   "execution_count": 33,
   "id": "c3015d97",
   "metadata": {},
   "outputs": [
    {
     "data": {
      "text/html": [
       "<table class=\"dataframe\">\n",
       "<caption>A matrix: 4 × 4 of type dbl</caption>\n",
       "<thead>\n",
       "\t<tr><th></th><th scope=col>1</th><th scope=col>2</th><th scope=col>3</th><th scope=col>4</th></tr>\n",
       "</thead>\n",
       "<tbody>\n",
       "\t<tr><th scope=row>1</th><td>0.0000000</td><td>0.9760860</td><td>0.9641723</td><td>0.9914398</td></tr>\n",
       "\t<tr><th scope=row>2</th><td>0.9760860</td><td>0.0000000</td><td>0.9925732</td><td>0.9374253</td></tr>\n",
       "\t<tr><th scope=row>3</th><td>0.9641723</td><td>0.9925732</td><td>0.0000000</td><td>0.9888968</td></tr>\n",
       "\t<tr><th scope=row>4</th><td>0.9914398</td><td>0.9374253</td><td>0.9888968</td><td>0.0000000</td></tr>\n",
       "</tbody>\n",
       "</table>\n"
      ],
      "text/latex": [
       "A matrix: 4 × 4 of type dbl\n",
       "\\begin{tabular}{r|llll}\n",
       "  & 1 & 2 & 3 & 4\\\\\n",
       "\\hline\n",
       "\t1 & 0.0000000 & 0.9760860 & 0.9641723 & 0.9914398\\\\\n",
       "\t2 & 0.9760860 & 0.0000000 & 0.9925732 & 0.9374253\\\\\n",
       "\t3 & 0.9641723 & 0.9925732 & 0.0000000 & 0.9888968\\\\\n",
       "\t4 & 0.9914398 & 0.9374253 & 0.9888968 & 0.0000000\\\\\n",
       "\\end{tabular}\n"
      ],
      "text/markdown": [
       "\n",
       "A matrix: 4 × 4 of type dbl\n",
       "\n",
       "| <!--/--> | 1 | 2 | 3 | 4 |\n",
       "|---|---|---|---|---|\n",
       "| 1 | 0.0000000 | 0.9760860 | 0.9641723 | 0.9914398 |\n",
       "| 2 | 0.9760860 | 0.0000000 | 0.9925732 | 0.9374253 |\n",
       "| 3 | 0.9641723 | 0.9925732 | 0.0000000 | 0.9888968 |\n",
       "| 4 | 0.9914398 | 0.9374253 | 0.9888968 | 0.0000000 |\n",
       "\n"
      ],
      "text/plain": [
       "  1         2         3         4        \n",
       "1 0.0000000 0.9760860 0.9641723 0.9914398\n",
       "2 0.9760860 0.0000000 0.9925732 0.9374253\n",
       "3 0.9641723 0.9925732 0.0000000 0.9888968\n",
       "4 0.9914398 0.9374253 0.9888968 0.0000000"
      ]
     },
     "metadata": {},
     "output_type": "display_data"
    },
    {
     "data": {
      "image/png": "[encoded data removed]",
      "text/plain": [
       "Plot with title \"User's Similarities\""
      ]
     },
     "metadata": {
      "image/png": {
       "height": 420,
       "width": 420
      }
     },
     "output_type": "display_data"
    }
   ],
   "source": [
    "similarity_mat <- similarity(ratingMatrix[1:4, ],method =\"cosine\",which = \"users\")\n",
    "as.matrix(similarity_mat)\n",
    "image(as.matrix(similarity_mat),main =\"User's Similarities\")"
   ]
  },
  {
   "cell_type": "code",
   "execution_count": 34,
   "id": "3837ef6f",
   "metadata": {},
   "outputs": [
    {
     "data": {
      "text/html": [
       "<style>\n",
       ".list-inline {list-style: none; margin:0; padding: 0}\n",
       ".list-inline>li {display: inline-block}\n",
       ".list-inline>li:not(:last-child)::after {content: \"\\00b7\"; padding: 0 .5ex}\n",
       "</style>\n",
       "<ol class=list-inline><li>0</li><li>5</li><li>4</li><li>3</li><li>4.5</li><li>1.5</li><li>2</li><li>3.5</li><li>1</li><li>2.5</li><li>0.5</li></ol>\n"
      ],
      "text/latex": [
       "\\begin{enumerate*}\n",
       "\\item 0\n",
       "\\item 5\n",
       "\\item 4\n",
       "\\item 3\n",
       "\\item 4.5\n",
       "\\item 1.5\n",
       "\\item 2\n",
       "\\item 3.5\n",
       "\\item 1\n",
       "\\item 2.5\n",
       "\\item 0.5\n",
       "\\end{enumerate*}\n"
      ],
      "text/markdown": [
       "1. 0\n",
       "2. 5\n",
       "3. 4\n",
       "4. 3\n",
       "5. 4.5\n",
       "6. 1.5\n",
       "7. 2\n",
       "8. 3.5\n",
       "9. 1\n",
       "10. 2.5\n",
       "11. 0.5\n",
       "\n",
       "\n"
      ],
      "text/plain": [
       " [1] 0.0 5.0 4.0 3.0 4.5 1.5 2.0 3.5 1.0 2.5 0.5"
      ]
     },
     "metadata": {},
     "output_type": "display_data"
    }
   ],
   "source": [
    "rating_values <-as.vector(ratingMatrix@data)\n",
    "unique(rating_values)"
   ]
  },
  {
   "cell_type": "code",
   "execution_count": 38,
   "id": "c6827a09",
   "metadata": {},
   "outputs": [
    {
     "data": {
      "text/plain": [
       "rating_values\n",
       "      0     0.5       1     1.5       2     2.5       3     3.5       4     4.5 \n",
       "6791761    1198    3258    1567    7943    5484   21729   12237   28880    8187 \n",
       "      5 \n",
       "  14856 "
      ]
     },
     "metadata": {},
     "output_type": "display_data"
    }
   ],
   "source": [
    "Table_of_Ratings<-table(rating_values)\n",
    "Table_of_Ratings"
   ]
  },
  {
   "cell_type": "code",
   "execution_count": 39,
   "id": "eedbf3a4",
   "metadata": {},
   "outputs": [
    {
     "data": {
      "text/html": [
       "<table class=\"dataframe\">\n",
       "<caption>A data.frame: 6 × 3</caption>\n",
       "<thead>\n",
       "\t<tr><th></th><th scope=col>movie</th><th scope=col>views</th><th scope=col>title</th></tr>\n",
       "\t<tr><th></th><th scope=col>&lt;chr&gt;</th><th scope=col>&lt;int&gt;</th><th scope=col>&lt;chr&gt;</th></tr>\n",
       "</thead>\n",
       "<tbody>\n",
       "\t<tr><th scope=row>296</th><td>296</td><td>325</td><td>Pulp Fiction (1994)                      </td></tr>\n",
       "\t<tr><th scope=row>356</th><td>356</td><td>311</td><td>Forrest Gump (1994)                      </td></tr>\n",
       "\t<tr><th scope=row>318</th><td>318</td><td>308</td><td>Shawshank Redemption, The (1994)         </td></tr>\n",
       "\t<tr><th scope=row>480</th><td>480</td><td>294</td><td>Jurassic Park (1993)                     </td></tr>\n",
       "\t<tr><th scope=row>593</th><td>593</td><td>290</td><td>Silence of the Lambs, The (1991)         </td></tr>\n",
       "\t<tr><th scope=row>260</th><td>260</td><td>273</td><td>Star Wars: Episode IV - A New Hope (1977)</td></tr>\n",
       "</tbody>\n",
       "</table>\n"
      ],
      "text/latex": [
       "A data.frame: 6 × 3\n",
       "\\begin{tabular}{r|lll}\n",
       "  & movie & views & title\\\\\n",
       "  & <chr> & <int> & <chr>\\\\\n",
       "\\hline\n",
       "\t296 & 296 & 325 & Pulp Fiction (1994)                      \\\\\n",
       "\t356 & 356 & 311 & Forrest Gump (1994)                      \\\\\n",
       "\t318 & 318 & 308 & Shawshank Redemption, The (1994)         \\\\\n",
       "\t480 & 480 & 294 & Jurassic Park (1993)                     \\\\\n",
       "\t593 & 593 & 290 & Silence of the Lambs, The (1991)         \\\\\n",
       "\t260 & 260 & 273 & Star Wars: Episode IV - A New Hope (1977)\\\\\n",
       "\\end{tabular}\n"
      ],
      "text/markdown": [
       "\n",
       "A data.frame: 6 × 3\n",
       "\n",
       "| <!--/--> | movie &lt;chr&gt; | views &lt;int&gt; | title &lt;chr&gt; |\n",
       "|---|---|---|---|\n",
       "| 296 | 296 | 325 | Pulp Fiction (1994)                       |\n",
       "| 356 | 356 | 311 | Forrest Gump (1994)                       |\n",
       "| 318 | 318 | 308 | Shawshank Redemption, The (1994)          |\n",
       "| 480 | 480 | 294 | Jurassic Park (1993)                      |\n",
       "| 593 | 593 | 290 | Silence of the Lambs, The (1991)          |\n",
       "| 260 | 260 | 273 | Star Wars: Episode IV - A New Hope (1977) |\n",
       "\n"
      ],
      "text/plain": [
       "    movie views title                                    \n",
       "296 296   325   Pulp Fiction (1994)                      \n",
       "356 356   311   Forrest Gump (1994)                      \n",
       "318 318   308   Shawshank Redemption, The (1994)         \n",
       "480 480   294   Jurassic Park (1993)                     \n",
       "593 593   290   Silence of the Lambs, The (1991)         \n",
       "260 260   273   Star Wars: Episode IV - A New Hope (1977)"
      ]
     },
     "metadata": {},
     "output_type": "display_data"
    }
   ],
   "source": [
    "library(ggplot2)\n",
    "movie_views <-colCounts(ratingMatrix)\n",
    "table_views <- data.frame(movie = names(movie_views),views = movie_views)\n",
    "table_views <- table_views[order(table_views$views,decreasing=TRUE),]\n",
    "table_views$title <-NA\n",
    "for (index in 1:10325)\n",
    "    {\n",
    "    table_views[index,3]<-as.character(subset(movie_data,movie_data$movieId == table_views[index,1])$title)\n",
    "    }\n",
    "table_views[1:6,]\n"
   ]
  },
  {
   "cell_type": "code",
   "execution_count": 50,
   "id": "4643b15b",
   "metadata": {},
   "outputs": [
    {
     "data": {
      "image/png": "[encoded data removed]",
      "text/plain": [
       "plot without title"
      ]
     },
     "metadata": {
      "image/png": {
       "height": 420,
       "width": 420
      }
     },
     "output_type": "display_data"
    }
   ],
   "source": [
    "ggplot(table_views[1:6, ], aes(x=title,y=views))+\n",
    "geom_bar(stat=\"identity\",fill = 'steelblue')+\n",
    "geom_text(aes(label=views),vjust=-0.3,size=3.5)+\n",
    "theme(axis.text.x=element_text(angle=45,hjust=1))+\n",
    "ggtitle(\"Total Views of the Top Films\")"
   ]
  },
  {
   "cell_type": "code",
   "execution_count": 51,
   "id": "57dddec2",
   "metadata": {},
   "outputs": [
    {
     "data": {
      "image/png": "[encoded data removed]",
      "text/plain": [
       "plot without title"
      ]
     },
     "metadata": {
      "image/png": {
       "height": 420,
       "width": 420
      }
     },
     "output_type": "display_data"
    }
   ],
   "source": [
    "image(ratingMatrix[1:20,1:25],axes=FALSE,main= \"Heatmap of the first 25 rows and 25 columns\")\n",
    "     "
   ]
  },
  {
   "cell_type": "code",
   "execution_count": 59,
   "id": "ddad501d",
   "metadata": {},
   "outputs": [
    {
     "data": {
      "text/plain": [
       "420 x 447 rating matrix of class 'realRatingMatrix' with 38341 ratings."
      ]
     },
     "metadata": {},
     "output_type": "display_data"
    }
   ],
   "source": [
    "movie_rating <- ratingMatrix[rowCounts(ratingMatrix) >50,colCounts(ratingMatrix)>50]\n",
    "movie_rating"
   ]
  },
  {
   "cell_type": "code",
   "execution_count": 60,
   "id": "bc34df51",
   "metadata": {},
   "outputs": [
    {
     "data": {
      "image/png": "[encoded data removed]",
      "text/plain": [
       "plot without title"
      ]
     },
     "metadata": {
      "image/png": {
       "height": 420,
       "width": 420
      }
     },
     "output_type": "display_data"
    }
   ],
   "source": [
    "minimum_movies<- quantile(rowCounts(movie_rating),0.98)\n",
    "minimum_users<- quantile(colCounts(movie_rating),0.98)\n",
    "image(movie_rating[rowCounts(movie_rating) > minimum_movies,colCounts(movie_rating) > minimum_users],\n",
    "     main=\"Heatmap of the top users and movies\")"
   ]
  },
  {
   "cell_type": "code",
   "execution_count": 66,
   "id": "04b193da",
   "metadata": {},
   "outputs": [
    {
     "name": "stderr",
     "output_type": "stream",
     "text": [
      "`stat_bin()` using `bins = 30`. Pick better value with `binwidth`.\n",
      "\n"
     ]
    },
    {
     "data": {
      "image/png": "[encoded data removed]",
      "text/plain": [
       "plot without title"
      ]
     },
     "metadata": {
      "image/png": {
       "height": 420,
       "width": 420
      }
     },
     "output_type": "display_data"
    }
   ],
   "source": [
    "average_ratings <- rowMeans(movie_rating)\n",
    "qplot(average_ratings, fill = I(\"black\"),col=I(\"green\"))+\n",
    "ggtitle(\"Distribution of the average rating per user\")"
   ]
  },
  {
   "cell_type": "code",
   "execution_count": 67,
   "id": "3ee03957",
   "metadata": {},
   "outputs": [
    {
     "data": {
      "text/html": [
       "0"
      ],
      "text/latex": [
       "0"
      ],
      "text/markdown": [
       "0"
      ],
      "text/plain": [
       "[1] 0"
      ]
     },
     "metadata": {},
     "output_type": "display_data"
    },
    {
     "data": {
      "image/png": "[encoded data removed]",
      "text/plain": [
       "plot without title"
      ]
     },
     "metadata": {
      "image/png": {
       "height": 420,
       "width": 420
      }
     },
     "output_type": "display_data"
    }
   ],
   "source": [
    "normalized_ratings <- normalize(movie_rating)\n",
    "sum(rowMeans(normalized_ratings)>0.00001)\n",
    "image(normalized_ratings[rowCounts(normalized_ratings)>minimum_movies,colCounts(normalized_ratings)>minimum_users],\n",
    "     main = \"Normalized Ratings of the Top Users\")\n"
   ]
  },
  {
   "cell_type": "code",
   "execution_count": 73,
   "id": "f52f3fd7",
   "metadata": {},
   "outputs": [
    {
     "data": {
      "image/png": "[encoded data removed]",
      "text/plain": [
       "plot without title"
      ]
     },
     "metadata": {
      "image/png": {
       "height": 420,
       "width": 420
      }
     },
     "output_type": "display_data"
    }
   ],
   "source": [
    "binary_minimum_movies <- quantile(rowCounts(movie_rating),0.95)\n",
    "binary_minimum_users<- quantile(colCounts(movie_rating),0.95)\n",
    "movies_watched <-binarize(movie_rating,minRating =1)\n",
    "\n",
    "good_rated_films <- binarize(movie_rating,minRating=3)\n",
    "image(good_rated_films[rowCounts(movie_rating)> binary_minimum_movies,colCounts(movie_rating)>binary_minimum_users],\n",
    "     main=\"Heatmap of the top users and movies\")"
   ]
  },
  {
   "cell_type": "code",
   "execution_count": 75,
   "id": "90889b80",
   "metadata": {},
   "outputs": [],
   "source": [
    "sampled_data<-sample(x= c(TRUE,FALSE),size = nrow(movie_rating),replace =TRUE,prob= c(0.8,0.2))\n",
    "training_data <- movie_rating[sampled_data, ]\n",
    "testing_data <-movie_rating[!sampled_data, ]"
   ]
  },
  {
   "cell_type": "code",
   "execution_count": 76,
   "id": "67a0e50d",
   "metadata": {},
   "outputs": [
    {
     "data": {
      "text/html": [
       "<dl>\n",
       "\t<dt>$k</dt>\n",
       "\t\t<dd>30</dd>\n",
       "\t<dt>$method</dt>\n",
       "\t\t<dd>'Cosine'</dd>\n",
       "\t<dt>$normalize</dt>\n",
       "\t\t<dd>'center'</dd>\n",
       "\t<dt>$normalize_sim_matrix</dt>\n",
       "\t\t<dd>FALSE</dd>\n",
       "\t<dt>$alpha</dt>\n",
       "\t\t<dd>0.5</dd>\n",
       "\t<dt>$na_as_zero</dt>\n",
       "\t\t<dd>FALSE</dd>\n",
       "</dl>\n"
      ],
      "text/latex": [
       "\\begin{description}\n",
       "\\item[\\$k] 30\n",
       "\\item[\\$method] 'Cosine'\n",
       "\\item[\\$normalize] 'center'\n",
       "\\item[\\$normalize\\_sim\\_matrix] FALSE\n",
       "\\item[\\$alpha] 0.5\n",
       "\\item[\\$na\\_as\\_zero] FALSE\n",
       "\\end{description}\n"
      ],
      "text/markdown": [
       "$k\n",
       ":   30\n",
       "$method\n",
       ":   'Cosine'\n",
       "$normalize\n",
       ":   'center'\n",
       "$normalize_sim_matrix\n",
       ":   FALSE\n",
       "$alpha\n",
       ":   0.5\n",
       "$na_as_zero\n",
       ":   FALSE\n",
       "\n",
       "\n"
      ],
      "text/plain": [
       "$k\n",
       "[1] 30\n",
       "\n",
       "$method\n",
       "[1] \"Cosine\"\n",
       "\n",
       "$normalize\n",
       "[1] \"center\"\n",
       "\n",
       "$normalize_sim_matrix\n",
       "[1] FALSE\n",
       "\n",
       "$alpha\n",
       "[1] 0.5\n",
       "\n",
       "$na_as_zero\n",
       "[1] FALSE\n"
      ]
     },
     "metadata": {},
     "output_type": "display_data"
    }
   ],
   "source": [
    "recommendation_system<- recommenderRegistry$get_entries(dataType =\"realRatingMatrix\")\n",
    "recommendation_system$IBCF_realRatingMatrix$parameters"
   ]
  },
  {
   "cell_type": "code",
   "execution_count": 79,
   "id": "712e62a3",
   "metadata": {},
   "outputs": [
    {
     "data": {
      "text/plain": [
       "Recommender of type 'IBCF' for 'realRatingMatrix' \n",
       "learned using 348 users."
      ]
     },
     "metadata": {},
     "output_type": "display_data"
    },
    {
     "data": {
      "text/html": [
       "'Recommender'"
      ],
      "text/latex": [
       "'Recommender'"
      ],
      "text/markdown": [
       "'Recommender'"
      ],
      "text/plain": [
       "[1] \"Recommender\"\n",
       "attr(,\"package\")\n",
       "[1] \"recommenderlab\""
      ]
     },
     "metadata": {},
     "output_type": "display_data"
    }
   ],
   "source": [
    "recommen_model <-Recommender(data = training_data,method=\"IBCF\",parameter = list(k=30))\n",
    "recommen_model\n",
    "class (recommen_model)"
   ]
  },
  {
   "cell_type": "code",
   "execution_count": 80,
   "id": "79b1b3fc",
   "metadata": {},
   "outputs": [
    {
     "data": {
      "text/html": [
       "'Recommender'"
      ],
      "text/latex": [
       "'Recommender'"
      ],
      "text/markdown": [
       "'Recommender'"
      ],
      "text/plain": [
       "[1] \"Recommender\"\n",
       "attr(,\"package\")\n",
       "[1] \"recommenderlab\""
      ]
     },
     "metadata": {},
     "output_type": "display_data"
    }
   ],
   "source": [
    "class (recommen_model)"
   ]
  },
  {
   "cell_type": "code",
   "execution_count": 81,
   "id": "82189a32",
   "metadata": {},
   "outputs": [
    {
     "data": {
      "text/html": [
       "'dgCMatrix'"
      ],
      "text/latex": [
       "'dgCMatrix'"
      ],
      "text/markdown": [
       "'dgCMatrix'"
      ],
      "text/plain": [
       "[1] \"dgCMatrix\"\n",
       "attr(,\"package\")\n",
       "[1] \"Matrix\""
      ]
     },
     "metadata": {},
     "output_type": "display_data"
    },
    {
     "data": {
      "text/html": [
       "<style>\n",
       ".list-inline {list-style: none; margin:0; padding: 0}\n",
       ".list-inline>li {display: inline-block}\n",
       ".list-inline>li:not(:last-child)::after {content: \"\\00b7\"; padding: 0 .5ex}\n",
       "</style>\n",
       "<ol class=list-inline><li>447</li><li>447</li></ol>\n"
      ],
      "text/latex": [
       "\\begin{enumerate*}\n",
       "\\item 447\n",
       "\\item 447\n",
       "\\end{enumerate*}\n"
      ],
      "text/markdown": [
       "1. 447\n",
       "2. 447\n",
       "\n",
       "\n"
      ],
      "text/plain": [
       "[1] 447 447"
      ]
     },
     "metadata": {},
     "output_type": "display_data"
    },
    {
     "data": {
      "image/png": "[encoded data removed]",
      "text/plain": [
       "plot without title"
      ]
     },
     "metadata": {
      "image/png": {
       "height": 420,
       "width": 420
      }
     },
     "output_type": "display_data"
    }
   ],
   "source": [
    "model_info <- getModel(recommen_model)\n",
    "class(model_info$sim)\n",
    "dim(model_info$sim)\n",
    "top_items<-20\n",
    "image(model_info$sim[1:top_items, 1:top_items], \n",
    "      main=\"Heatmap of the first rows and columns\")"
   ]
  },
  {
   "cell_type": "code",
   "execution_count": 83,
   "id": "556daca9",
   "metadata": {},
   "outputs": [
    {
     "data": {
      "text/plain": [
       "sum_rows\n",
       " 30 \n",
       "447 "
      ]
     },
     "metadata": {},
     "output_type": "display_data"
    }
   ],
   "source": [
    "sum_rows <-rowSums(model_info$sim >0)\n",
    "table(sum_rows)"
   ]
  },
  {
   "cell_type": "code",
   "execution_count": 89,
   "id": "a2e83fb6",
   "metadata": {},
   "outputs": [
    {
     "name": "stderr",
     "output_type": "stream",
     "text": [
      "`stat_bin()` using `bins = 30`. Pick better value with `binwidth`.\n",
      "\n"
     ]
    },
    {
     "data": {
      "image/png": "[encoded data removed]",
      "text/plain": [
       "plot without title"
      ]
     },
     "metadata": {
      "image/png": {
       "height": 420,
       "width": 420
      }
     },
     "output_type": "display_data"
    }
   ],
   "source": [
    "sum_cols <-colSums(model_info$sim >0)\n",
    "qplot(sum_cols,fill=I(\"black\"),col=I(\" yellow \"))+ggtitle(\"Distribution of the col count\")"
   ]
  },
  {
   "cell_type": "code",
   "execution_count": 90,
   "id": "36e0cdf6",
   "metadata": {},
   "outputs": [
    {
     "data": {
      "text/plain": [
       "Recommendations as 'topNList' with n = 10 for 72 users. "
      ]
     },
     "metadata": {},
     "output_type": "display_data"
    }
   ],
   "source": [
    "top_recommendations <-10\n",
    "predicted_recommendations<-predict(object = recommen_model,newdata=testing_data,n=top_recommendations)\n",
    "predicted_recommendations"
   ]
  },
  {
   "cell_type": "code",
   "execution_count": 94,
   "id": "e36e67fc",
   "metadata": {},
   "outputs": [
    {
     "data": {
      "text/html": [
       "<style>\n",
       ".list-inline {list-style: none; margin:0; padding: 0}\n",
       ".list-inline>li {display: inline-block}\n",
       ".list-inline>li:not(:last-child)::after {content: \"\\00b7\"; padding: 0 .5ex}\n",
       "</style>\n",
       "<ol class=list-inline><li>'Toy Story (1995)'</li><li>'Casino (1995)'</li><li>'Sense and Sensibility (1995)'</li><li>'Get Shorty (1995)'</li><li>'Leaving Las Vegas (1995)'</li><li>'Babe (1995)'</li><li>'Dead Man Walking (1995)'</li><li>'Mr. Holland\\'s Opus (1995)'</li><li>'Braveheart (1995)'</li><li>'Taxi Driver (1976)'</li></ol>\n"
      ],
      "text/latex": [
       "\\begin{enumerate*}\n",
       "\\item 'Toy Story (1995)'\n",
       "\\item 'Casino (1995)'\n",
       "\\item 'Sense and Sensibility (1995)'\n",
       "\\item 'Get Shorty (1995)'\n",
       "\\item 'Leaving Las Vegas (1995)'\n",
       "\\item 'Babe (1995)'\n",
       "\\item 'Dead Man Walking (1995)'\n",
       "\\item 'Mr. Holland\\textbackslash{}'s Opus (1995)'\n",
       "\\item 'Braveheart (1995)'\n",
       "\\item 'Taxi Driver (1976)'\n",
       "\\end{enumerate*}\n"
      ],
      "text/markdown": [
       "1. 'Toy Story (1995)'\n",
       "2. 'Casino (1995)'\n",
       "3. 'Sense and Sensibility (1995)'\n",
       "4. 'Get Shorty (1995)'\n",
       "5. 'Leaving Las Vegas (1995)'\n",
       "6. 'Babe (1995)'\n",
       "7. 'Dead Man Walking (1995)'\n",
       "8. 'Mr. Holland\\'s Opus (1995)'\n",
       "9. 'Braveheart (1995)'\n",
       "10. 'Taxi Driver (1976)'\n",
       "\n",
       "\n"
      ],
      "text/plain": [
       " [1] \"Toy Story (1995)\"             \"Casino (1995)\"               \n",
       " [3] \"Sense and Sensibility (1995)\" \"Get Shorty (1995)\"           \n",
       " [5] \"Leaving Las Vegas (1995)\"     \"Babe (1995)\"                 \n",
       " [7] \"Dead Man Walking (1995)\"      \"Mr. Holland's Opus (1995)\"   \n",
       " [9] \"Braveheart (1995)\"            \"Taxi Driver (1976)\"          "
      ]
     },
     "metadata": {},
     "output_type": "display_data"
    }
   ],
   "source": [
    "user1 <-predicted_recommendations@items[[1]]\n",
    "movies_user1 <- predicted_recommendations@itemLabels[user1]\n",
    "movies_user2 <-movies_user1\n",
    "for ( index in 1:10)\n",
    "    {\n",
    "        movies_user2[index] <- as.character(subset(movie_data,movie_data$movieId ==movies_user1[index])$title)\n",
    "    }\n",
    "movies_user2"
   ]
  },
  {
   "cell_type": "code",
   "execution_count": 106,
   "id": "0b21df01",
   "metadata": {},
   "outputs": [
    {
     "data": {
      "text/html": [
       "<table class=\"dataframe\">\n",
       "<caption>A matrix: 10 × 4 of type int</caption>\n",
       "<tbody>\n",
       "\t<tr><td>  1</td><td>  32</td><td> 785</td><td>1961</td></tr>\n",
       "\t<tr><td> 16</td><td> 145</td><td>1275</td><td>2571</td></tr>\n",
       "\t<tr><td> 17</td><td> 168</td><td>3481</td><td>1625</td></tr>\n",
       "\t<tr><td> 21</td><td> 260</td><td>1035</td><td>8665</td></tr>\n",
       "\t<tr><td> 25</td><td> 261</td><td>4720</td><td>4993</td></tr>\n",
       "\t<tr><td> 34</td><td> 293</td><td>1641</td><td>1682</td></tr>\n",
       "\t<tr><td> 36</td><td> 520</td><td>1527</td><td>1234</td></tr>\n",
       "\t<tr><td> 62</td><td> 852</td><td>3418</td><td>  17</td></tr>\n",
       "\t<tr><td>110</td><td> 858</td><td>4963</td><td>  25</td></tr>\n",
       "\t<tr><td>111</td><td>1047</td><td>3175</td><td> 265</td></tr>\n",
       "</tbody>\n",
       "</table>\n"
      ],
      "text/latex": [
       "A matrix: 10 × 4 of type int\n",
       "\\begin{tabular}{llll}\n",
       "\t   1 &   32 &  785 & 1961\\\\\n",
       "\t  16 &  145 & 1275 & 2571\\\\\n",
       "\t  17 &  168 & 3481 & 1625\\\\\n",
       "\t  21 &  260 & 1035 & 8665\\\\\n",
       "\t  25 &  261 & 4720 & 4993\\\\\n",
       "\t  34 &  293 & 1641 & 1682\\\\\n",
       "\t  36 &  520 & 1527 & 1234\\\\\n",
       "\t  62 &  852 & 3418 &   17\\\\\n",
       "\t 110 &  858 & 4963 &   25\\\\\n",
       "\t 111 & 1047 & 3175 &  265\\\\\n",
       "\\end{tabular}\n"
      ],
      "text/markdown": [
       "\n",
       "A matrix: 10 × 4 of type int\n",
       "\n",
       "|   1 |   32 |  785 | 1961 |\n",
       "|  16 |  145 | 1275 | 2571 |\n",
       "|  17 |  168 | 3481 | 1625 |\n",
       "|  21 |  260 | 1035 | 8665 |\n",
       "|  25 |  261 | 4720 | 4993 |\n",
       "|  34 |  293 | 1641 | 1682 |\n",
       "|  36 |  520 | 1527 | 1234 |\n",
       "|  62 |  852 | 3418 |   17 |\n",
       "| 110 |  858 | 4963 |   25 |\n",
       "| 111 | 1047 | 3175 |  265 |\n",
       "\n"
      ],
      "text/plain": [
       "      [,1] [,2] [,3] [,4]\n",
       " [1,]   1    32  785 1961\n",
       " [2,]  16   145 1275 2571\n",
       " [3,]  17   168 3481 1625\n",
       " [4,]  21   260 1035 8665\n",
       " [5,]  25   261 4720 4993\n",
       " [6,]  34   293 1641 1682\n",
       " [7,]  36   520 1527 1234\n",
       " [8,]  62   852 3418   17\n",
       " [9,] 110   858 4963   25\n",
       "[10,] 111  1047 3175  265"
      ]
     },
     "metadata": {},
     "output_type": "display_data"
    }
   ],
   "source": [
    "recommendation_matrix <- sapply(predicted_recommendations@items,function(x)\n",
    "                                {as.integer(colnames(movie_rating)[x])})\n",
    "recommendation_matrix[,1:4]"
   ]
  },
  {
   "cell_type": "code",
   "execution_count": 108,
   "id": "cb7cf1cb",
   "metadata": {},
   "outputs": [
    {
     "data": {
      "image/png": "[encoded data removed]",
      "text/plain": [
       "plot without title"
      ]
     },
     "metadata": {
      "image/png": {
       "height": 420,
       "width": 420
      }
     },
     "output_type": "display_data"
    }
   ],
   "source": [
    "number_of_items<-factor(table(recommendation_matrix))\n",
    "qplot(number_of_items,fill=I(\"black\"),col=I(\"yellow\"))+ggtitle(\"Distribution of the Number of Items for IBCF\")"
   ]
  },
  {
   "cell_type": "code",
   "execution_count": 109,
   "id": "1f09f597",
   "metadata": {},
   "outputs": [
    {
     "data": {
      "text/html": [
       "<table class=\"dataframe\">\n",
       "<caption>A data.frame: 4 × 2</caption>\n",
       "<thead>\n",
       "\t<tr><th></th><th scope=col>Movie Title</th><th scope=col>No.of Items</th></tr>\n",
       "\t<tr><th></th><th scope=col>&lt;chr&gt;</th><th scope=col>&lt;fct&gt;</th></tr>\n",
       "</thead>\n",
       "<tbody>\n",
       "\t<tr><th scope=row>25</th><td>Leaving Las Vegas (1995)              </td><td>11</td></tr>\n",
       "\t<tr><th scope=row>745</th><td>Wallace &amp; Gromit: A Close Shave (1995)</td><td>8 </td></tr>\n",
       "\t<tr><th scope=row>1</th><td>Toy Story (1995)                      </td><td>7 </td></tr>\n",
       "\t<tr><th scope=row>6</th><td>Heat (1995)                           </td><td>7 </td></tr>\n",
       "</tbody>\n",
       "</table>\n"
      ],
      "text/latex": [
       "A data.frame: 4 × 2\n",
       "\\begin{tabular}{r|ll}\n",
       "  & Movie Title & No.of Items\\\\\n",
       "  & <chr> & <fct>\\\\\n",
       "\\hline\n",
       "\t25 & Leaving Las Vegas (1995)               & 11\\\\\n",
       "\t745 & Wallace \\& Gromit: A Close Shave (1995) & 8 \\\\\n",
       "\t1 & Toy Story (1995)                       & 7 \\\\\n",
       "\t6 & Heat (1995)                            & 7 \\\\\n",
       "\\end{tabular}\n"
      ],
      "text/markdown": [
       "\n",
       "A data.frame: 4 × 2\n",
       "\n",
       "| <!--/--> | Movie Title &lt;chr&gt; | No.of Items &lt;fct&gt; |\n",
       "|---|---|---|\n",
       "| 25 | Leaving Las Vegas (1995)               | 11 |\n",
       "| 745 | Wallace &amp; Gromit: A Close Shave (1995) | 8  |\n",
       "| 1 | Toy Story (1995)                       | 7  |\n",
       "| 6 | Heat (1995)                            | 7  |\n",
       "\n"
      ],
      "text/plain": [
       "    Movie Title                            No.of Items\n",
       "25  Leaving Las Vegas (1995)               11         \n",
       "745 Wallace & Gromit: A Close Shave (1995) 8          \n",
       "1   Toy Story (1995)                       7          \n",
       "6   Heat (1995)                            7          "
      ]
     },
     "metadata": {},
     "output_type": "display_data"
    }
   ],
   "source": [
    "number_of_items_sorted <-sort(number_of_items,decreasing =TRUE)\n",
    "number_of_items_top <-head(number_of_items_sorted,n=4)\n",
    "table_top<-data.frame(as.integer(names(number_of_items_top)),number_of_items_top)\n",
    "for(i in 1:4)\n",
    "    {\n",
    "        table_top[i,1]<-as.character(subset(movie_data,movie_data$movieId==table_top[i,1])$title)       \n",
    "    }\n",
    "colnames(table_top)<-c(\"Movie Title\",\"No.of Items\")\n",
    "head(table_top)"
   ]
  },
  {
   "cell_type": "code",
   "execution_count": null,
   "id": "c5d34dec",
   "metadata": {},
   "outputs": [],
   "source": []
  }
 ],
 "metadata": {
  "kernelspec": {
   "display_name": "R",
   "language": "R",
   "name": "ir"
  },
  "language_info": {
   "codemirror_mode": "r",
   "file_extension": ".r",
   "mimetype": "text/x-r-source",
   "name": "R",
   "pygments_lexer": "r",
   "version": "4.1.1"
  }
 },
 "nbformat": 4,
 "nbformat_minor": 5
}
